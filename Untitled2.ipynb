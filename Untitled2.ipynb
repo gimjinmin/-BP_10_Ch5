{
  "nbformat": 4,
  "nbformat_minor": 0,
  "metadata": {
    "colab": {
      "provenance": [],
      "authorship_tag": "ABX9TyPwXV1ZM6g12uFVrfiLefaE",
      "include_colab_link": true
    },
    "kernelspec": {
      "name": "python3",
      "display_name": "Python 3"
    },
    "language_info": {
      "name": "python"
    }
  },
  "cells": [
    {
      "cell_type": "markdown",
      "metadata": {
        "id": "view-in-github",
        "colab_type": "text"
      },
      "source": [
        "<a href=\"https://colab.research.google.com/github/gimjinmin/-BP_10_Ch5/blob/main/Untitled2.ipynb\" target=\"_parent\"><img src=\"https://colab.research.google.com/assets/colab-badge.svg\" alt=\"Open In Colab\"/></a>"
      ]
    },
    {
      "cell_type": "code",
      "execution_count": 1,
      "metadata": {
        "colab": {
          "base_uri": "https://localhost:8080/"
        },
        "id": "ymGjcPsV_FJe",
        "outputId": "931db8d4-e2f5-4154-97ce-0b73660b7512"
      },
      "outputs": [
        {
          "output_type": "stream",
          "name": "stdout",
          "text": [
            "20살 이상\n"
          ]
        }
      ],
      "source": [
        "age = 20\n",
        "if age < 20:\n",
        "   print('20살 미만')\n",
        "else:\n",
        "   print('20살 이상')"
      ]
    },
    {
      "cell_type": "code",
      "source": [
        "age = 30\n",
        "if age <20:\n",
        "    print('20살 미만')\n",
        "elif age>=30 and age<=50:\n",
        "    print('30살 이상 50이하')\n",
        "else:\n",
        "    print('20살 이상')   "
      ],
      "metadata": {
        "colab": {
          "base_uri": "https://localhost:8080/"
        },
        "id": "yuefUKarAUsj",
        "outputId": "73f24371-c75a-4ec0-a983-69f812143c73"
      },
      "execution_count": 3,
      "outputs": [
        {
          "output_type": "stream",
          "name": "stdout",
          "text": [
            "30살 이상 50이하\n"
          ]
        }
      ]
    },
    {
      "cell_type": "code",
      "source": [
        "a=int(input('현재 온도를 입력하시오:'))\n",
        "if a >=25:\n",
        "    print(\"반바지를 입으세요.\")\n",
        "else:\n",
        "    print(\"긴바지를 입으세요.\")"
      ],
      "metadata": {
        "colab": {
          "base_uri": "https://localhost:8080/"
        },
        "id": "kJ23nvh8GOFo",
        "outputId": "9a2b25ab-8bdc-42f2-cd42-8f6dff9df610"
      },
      "execution_count": 4,
      "outputs": [
        {
          "output_type": "stream",
          "name": "stdout",
          "text": [
            "현재 온도를 입력하시오:10\n",
            "긴바지를 입으세요.\n"
          ]
        }
      ]
    },
    {
      "cell_type": "code",
      "source": [
        "a=int(input('성적을 입력하시오:'))\n",
        "if a >= 90:\n",
        "    print(\"A학점입니다.\")\n",
        "elif a >= 80:\n",
        "    print(\"B학점입니다.\")\n",
        "elif a >= 70:\n",
        "    print(\"C학점입니다.\")\n",
        "elif a >= 60:\n",
        "    print(\"D학점입니다.\")\n",
        "else:\n",
        "    print(\"F학점입니다.\")"
      ],
      "metadata": {
        "colab": {
          "base_uri": "https://localhost:8080/"
        },
        "id": "JO7Ob_ekG-dC",
        "outputId": "38172847-84da-4a80-d0de-0d39b48bcc72"
      },
      "execution_count": 5,
      "outputs": [
        {
          "output_type": "stream",
          "name": "stdout",
          "text": [
            "성적을 입력하시오:90\n",
            "A학점입니다.\n"
          ]
        }
      ]
    },
    {
      "cell_type": "code",
      "source": [
        "import random\n",
        "a=random.randint(1,100)\n",
        "b=random.randint(1,100)\n",
        "print(a,'-',b, '=')\n",
        "c=int(input())\n",
        "d=a-b\n",
        "if c==d:\n",
        "    print(\"맞았습니다.\")\n",
        "else:\n",
        "    print(\"틀렸습니다.\")"
      ],
      "metadata": {
        "colab": {
          "base_uri": "https://localhost:8080/"
        },
        "id": "7G-9AFnRIW1_",
        "outputId": "3950cf51-23fd-4acf-e4f0-dfc86adff14f"
      },
      "execution_count": 7,
      "outputs": [
        {
          "output_type": "stream",
          "name": "stdout",
          "text": [
            "5 - 47 =\n",
            "-42\n",
            "맞았습니다.\n"
          ]
        }
      ]
    },
    {
      "cell_type": "code",
      "source": [
        "a=int(input('정수를 입력하시오:'))\n",
        "if a%2==0 and a%3==0:\n",
        "    print(\"2와 3으로 나누어 떨어집니다.\")\n",
        "else:\n",
        "    print(\"2와 3으로 나누어 떨어지지 않습니다.\")"
      ],
      "metadata": {
        "colab": {
          "base_uri": "https://localhost:8080/"
        },
        "id": "Lg1UfAFALRrI",
        "outputId": "ec277eda-235b-4329-dabf-171ad7480ff3"
      },
      "execution_count": 8,
      "outputs": [
        {
          "output_type": "stream",
          "name": "stdout",
          "text": [
            "정수를 입력하시오:6\n",
            "2와 3으로 나누어 떨어집니다.\n"
          ]
        }
      ]
    },
    {
      "cell_type": "code",
      "source": [
        "import random\n",
        "a=random.randint(10,99)\n",
        "b=int(input('복권번호를 입력하시오(0에서99사이):'))\n",
        "a1=a//10\n",
        "a2=a%10\n",
        "b1=b//10\n",
        "b2=b%10\n",
        "print('당첨번호는',a,'입니다.')\n",
        "if a==b:\n",
        "    print(\"상금은 100만원입니다.\")\n",
        "elif b1==a2 and b2==a1:\n",
        "    print(\"상금은 100만원입니다.\")\n",
        "elif (b2==a1 or b1==a2)or(b2==a1 or b2==a2):\n",
        "    print(\"상금은 50만원입니다.\")\n",
        "else:\n",
        "    print('상금은 없습니다.')"
      ],
      "metadata": {
        "colab": {
          "base_uri": "https://localhost:8080/"
        },
        "id": "9rfIU_HfL-RQ",
        "outputId": "bb8802ae-bc21-42ad-862b-f0784937fb85"
      },
      "execution_count": 9,
      "outputs": [
        {
          "output_type": "stream",
          "name": "stdout",
          "text": [
            "복권번호를 입력하시오(0에서99사이):72\n",
            "당첨번호는 51 입니다.\n",
            "상금은 없습니다.\n"
          ]
        }
      ]
    }
  ]
}